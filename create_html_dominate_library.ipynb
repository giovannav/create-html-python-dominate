{
 "cells": [
  {
   "cell_type": "markdown",
   "metadata": {},
   "source": [
    "##### Importing the **dominate** library"
   ]
  },
  {
   "cell_type": "code",
   "execution_count": 1,
   "metadata": {},
   "outputs": [],
   "source": [
    "import dominate\n",
    "from dominate.tags import *\n",
    "import pandas as pd\n",
    "import codecs"
   ]
  },
  {
   "cell_type": "markdown",
   "metadata": {},
   "source": [
    "##### Creating a small dataframe to use as example"
   ]
  },
  {
   "cell_type": "code",
   "execution_count": 2,
   "metadata": {},
   "outputs": [],
   "source": [
    "df = pd.DataFrame({'name': ['Paul', 'John', 'George', 'Ringo'], 'instrument': ['Piano', 'Guitar', 'Bass', 'Drums']})"
   ]
  },
  {
   "cell_type": "markdown",
   "metadata": {},
   "source": [
    "##### Creating a list with my favorite songs"
   ]
  },
  {
   "cell_type": "code",
   "execution_count": 3,
   "metadata": {},
   "outputs": [],
   "source": [
    "songs = ['Hey Jude', 'In My Life', 'Let It Be', 'Penny Lane']"
   ]
  },
  {
   "cell_type": "markdown",
   "metadata": {},
   "source": [
    "##### **Main part**: creating the function that generates the html page"
   ]
  },
  {
   "cell_type": "code",
   "execution_count": 4,
   "metadata": {},
   "outputs": [],
   "source": [
    "def generate_page():\n",
    "\n",
    "    #<html>\n",
    "    #html title\n",
    "    doc = dominate.document(title='My web page')\n",
    "\n",
    "    #<head>\n",
    "    with doc.head:\n",
    "        #meta tags\n",
    "        meta(charset=\"utf-8\")\n",
    "        meta(content=\"your name\", name=\"author\")\n",
    "        #very simple css\n",
    "        style('body{font-family: Arial;} div{border: 1px black solid; padding: 1%;} .title-class{color: #0000FF;} .song-class{background-color: #FFC0CB; width: 50%} #beatles-photo{width: 20%; height: 20%} #page-footer{padding-left: 40%;}')\n",
    "    #</head>\n",
    "\n",
    "    #<body>\n",
    "    with doc:\n",
    "        #<header>\n",
    "        with header():\n",
    "            h1('header information', cls='title-class')\n",
    "        #</header>\n",
    "\n",
    "        #<div>\n",
    "        with div(cls='song-class'):\n",
    "            p(b('Norwegian Wood'))\n",
    "            p('I once had a girl')\n",
    "            p('Or should I say she once had me')\n",
    "            p('She showed me her room')\n",
    "            p('Isnt it good Norwegian wood?')\n",
    "            br()\n",
    "            a('I would like to hear this song on Youtube!', href='https://www.youtube.com/watch?v=Y_V6y1ZCg_8')\n",
    "        #</div>\n",
    "\n",
    "        #<div>\n",
    "        with div():\n",
    "            #<form>\n",
    "            with form(action='https://en.wikipedia.org/wiki/The_Beatles'):\n",
    "                button('Who are The Beatles?', type='submit')\n",
    "            #</form>\n",
    "        #</div>\n",
    "\n",
    "        #<div>\n",
    "        with div():\n",
    "            h2('These are The Beatles', cls='title-class')\n",
    "            h3('These are The Beatles', cls='title-class')\n",
    "            h4('These are The Beatles', cls='title-class')\n",
    "            h5('These are The Beatles', cls='title-class')\n",
    "            h6('These are The Beatles', cls='title-class')\n",
    "            img(src='https://upload.wikimedia.org/wikipedia/commons/thumb/d/df/The_Fabs.JPG/900px-The_Fabs.JPG', id='beatles-photo')\n",
    "        #</div>\n",
    "\n",
    "        #<div>\n",
    "        with div():\n",
    "            #<table>\n",
    "            with table():\n",
    "                #<thead>\n",
    "                with thead():\n",
    "                    #<tr>\n",
    "                    with tr():\n",
    "                        #for table_head in ['name', 'instrument']: OR\n",
    "                        for table_head in df.columns:\n",
    "                            #<th>\n",
    "                            th(table_head)\n",
    "                            #</th>\n",
    "                    #</tr>\n",
    "                #</thead>\n",
    "\n",
    "                #<tbody>\n",
    "                with tbody():\n",
    "                    for row in range(df.shape[0]):\n",
    "                        #<tr>\n",
    "                        with tr():\n",
    "                            for column in range(df.shape[-1]):\n",
    "                                #<td>\n",
    "                                td(df.values[row, column])\n",
    "                                #</td>\n",
    "                        #</tr>\n",
    "                #</tbody>\n",
    "            #</table>\n",
    "        #</div>\n",
    "        \n",
    "        #<div>\n",
    "        with div():\n",
    "            #b:: bold\n",
    "            p(b('These are my favorite songs:'))\n",
    "            with ol():\n",
    "                for song in songs:\n",
    "                    li(song)\n",
    "        #</div>\n",
    "\n",
    "        #<footer>\n",
    "        with footer():\n",
    "            p('I made this page with  my own hands.', id='page-footer')\n",
    "        #</footer>\n",
    "    \n",
    "    #</body>\n",
    "    #</html>\n",
    "    return doc"
   ]
  },
  {
   "cell_type": "markdown",
   "metadata": {},
   "source": [
    "##### Saving the doc as an html file"
   ]
  },
  {
   "cell_type": "code",
   "execution_count": 5,
   "metadata": {},
   "outputs": [],
   "source": [
    "'''\n",
    "The return of the function will be a dominate.document.document, so it has to be a string before saving it as html.\n",
    "This part is useful if you want to open the page in your browser and see how it looks, but it can be saved straightforward as a string doing so:\n",
    ">>> my_page = str(generate_page())\n",
    "'''\n",
    "\n",
    "with open('my_web_page.html', 'w') as f:\n",
    "    f.write(str(generate_page()))\n",
    "\n",
    "#opening the html file and saving as str\n",
    "my_page = codecs.open('my_web_page.html', 'r').read()"
   ]
  },
  {
   "cell_type": "markdown",
   "metadata": {},
   "source": [
    "##### **Additional information**: how to send this html as an email body using gmail"
   ]
  },
  {
   "cell_type": "code",
   "execution_count": 9,
   "metadata": {},
   "outputs": [],
   "source": [
    "import smtplib \n",
    "from email.mime.base import MIMEBase \n",
    "from email.mime.multipart import MIMEMultipart \n",
    "from email.mime.text import MIMEText\n",
    "from email.mime.image import MIMEImage\n",
    "from email import encoders"
   ]
  },
  {
   "cell_type": "code",
   "execution_count": 6,
   "metadata": {},
   "outputs": [],
   "source": [
    "#string of emails from key vault or other files (json, txt, etc)\n",
    "list_of_receivers = 'receiver1@email.com,receiver2@email.com,receiver3@email.com'\n",
    "recipients = list(list_of_receivers.split(','))\n",
    "\n",
    "#sender email\n",
    "sender = 'myemailaddr@gmail.com'"
   ]
  },
  {
   "cell_type": "code",
   "execution_count": null,
   "metadata": {},
   "outputs": [],
   "source": [
    "msg = MIMEMultipart()\n",
    "msg['From'] = sender\n",
    "msg['To'] = ',' .join(recipients)\n",
    "msg['Subject'] = 'What Is This Email About'\n",
    "msg.attach(MIMEText(my_page, 'html'))\n",
    "msg = msg.as_string()\n",
    "try:\n",
    "    server = smtplib.SMTP('smtp.gmail.com:587')\n",
    "    server.ehlo()\n",
    "    server.starttls()\n",
    "    server.login(sender, 'the token/password from https://myaccount.google.com/apppasswords')\n",
    "    server.sendmail(sender, recipients, msg)\n",
    "    server.quit()\n",
    "    print('Sent')\n",
    "except:\n",
    "    print('Failed')"
   ]
  }
 ],
 "metadata": {
  "interpreter": {
   "hash": "79ad451c9f4cacbaa3b572bda05ec2eb11107693f58b803f8bad454a20771e4d"
  },
  "kernelspec": {
   "display_name": "Python 3.8.8 ('base')",
   "language": "python",
   "name": "python3"
  },
  "language_info": {
   "codemirror_mode": {
    "name": "ipython",
    "version": 3
   },
   "file_extension": ".py",
   "mimetype": "text/x-python",
   "name": "python",
   "nbconvert_exporter": "python",
   "pygments_lexer": "ipython3",
   "version": "3.9.7"
  },
  "orig_nbformat": 4
 },
 "nbformat": 4,
 "nbformat_minor": 2
}
